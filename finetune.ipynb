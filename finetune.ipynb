{
  "nbformat": 4,
  "nbformat_minor": 0,
  "metadata": {
    "colab": {
      "name": "finetune.ipynb",
      "provenance": [],
      "authorship_tag": "ABX9TyO67lW9R9YFHAfC/Ub6DJG1",
      "include_colab_link": true
    },
    "kernelspec": {
      "name": "python3",
      "display_name": "Python 3"
    },
    "language_info": {
      "name": "python"
    },
    "accelerator": "GPU",
    "gpuClass": "standard"
  },
  "cells": [
    {
      "cell_type": "markdown",
      "metadata": {
        "id": "view-in-github",
        "colab_type": "text"
      },
      "source": [
        "<a href=\"https://colab.research.google.com/github/mykirk98/Artificial_Intelligence_Drills/blob/main/finetune.ipynb\" target=\"_parent\"><img src=\"https://colab.research.google.com/assets/colab-badge.svg\" alt=\"Open In Colab\"/></a>"
      ]
    },
    {
      "cell_type": "code",
      "source": [
        "!unzip data-19.zip"
      ],
      "metadata": {
        "colab": {
          "base_uri": "https://localhost:8080/"
        },
        "id": "KbmywoT2Wa3d",
        "outputId": "913d5387-0ccc-4ab3-a5ff-d8f559c8c12d"
      },
      "execution_count": 12,
      "outputs": [
        {
          "output_type": "stream",
          "name": "stdout",
          "text": [
            "Archive:  data-19.zip\n",
            "   creating: test/\n",
            "   creating: test/ad/\n",
            "  inflating: test/ad/ad_test_1.jpg   \n",
            "  inflating: test/ad/ad_test_10.jpg  \n",
            "  inflating: test/ad/ad_test_11.jpg  \n",
            "  inflating: test/ad/ad_test_12.jpg  \n",
            "  inflating: test/ad/ad_test_13.jpg  \n",
            "  inflating: test/ad/ad_test_14.jpg  \n",
            "  inflating: test/ad/ad_test_15.jpg  \n",
            "  inflating: test/ad/ad_test_16.jpg  \n",
            "  inflating: test/ad/ad_test_17.jpg  \n",
            "  inflating: test/ad/ad_test_18.jpg  \n",
            "  inflating: test/ad/ad_test_19.jpg  \n",
            "  inflating: test/ad/ad_test_2.jpg   \n",
            "  inflating: test/ad/ad_test_20.jpg  \n",
            "  inflating: test/ad/ad_test_21.jpg  \n",
            "  inflating: test/ad/ad_test_22.jpg  \n",
            "  inflating: test/ad/ad_test_23.jpg  \n",
            "  inflating: test/ad/ad_test_24.jpg  \n",
            "  inflating: test/ad/ad_test_25.jpg  \n",
            "  inflating: test/ad/ad_test_26.jpg  \n",
            "  inflating: test/ad/ad_test_27.jpg  \n",
            "  inflating: test/ad/ad_test_28.jpg  \n",
            "  inflating: test/ad/ad_test_29.jpg  \n",
            "  inflating: test/ad/ad_test_3.jpg   \n",
            "  inflating: test/ad/ad_test_30.jpg  \n",
            "  inflating: test/ad/ad_test_31.jpg  \n",
            "  inflating: test/ad/ad_test_32.jpg  \n",
            "  inflating: test/ad/ad_test_33.jpg  \n",
            "  inflating: test/ad/ad_test_34.jpg  \n",
            "  inflating: test/ad/ad_test_35.jpg  \n",
            "  inflating: test/ad/ad_test_36.jpg  \n",
            "  inflating: test/ad/ad_test_37.jpg  \n",
            "  inflating: test/ad/ad_test_38.jpg  \n",
            "  inflating: test/ad/ad_test_39.jpg  \n",
            "  inflating: test/ad/ad_test_4.jpg   \n",
            "  inflating: test/ad/ad_test_40.jpg  \n",
            "  inflating: test/ad/ad_test_41.jpg  \n",
            "  inflating: test/ad/ad_test_42.jpg  \n",
            "  inflating: test/ad/ad_test_43.jpg  \n",
            "  inflating: test/ad/ad_test_44.jpg  \n",
            "  inflating: test/ad/ad_test_45.jpg  \n",
            "  inflating: test/ad/ad_test_46.jpg  \n",
            "  inflating: test/ad/ad_test_47.jpg  \n",
            "  inflating: test/ad/ad_test_48.jpg  \n",
            "  inflating: test/ad/ad_test_49.jpg  \n",
            "  inflating: test/ad/ad_test_5.jpg   \n",
            "  inflating: test/ad/ad_test_50.jpg  \n",
            "  inflating: test/ad/ad_test_51.jpg  \n",
            "  inflating: test/ad/ad_test_52.jpg  \n",
            "  inflating: test/ad/ad_test_53.jpg  \n",
            "  inflating: test/ad/ad_test_54.jpg  \n",
            "  inflating: test/ad/ad_test_55.jpg  \n",
            "  inflating: test/ad/ad_test_56.jpg  \n",
            "  inflating: test/ad/ad_test_57.jpg  \n",
            "  inflating: test/ad/ad_test_58.jpg  \n",
            "  inflating: test/ad/ad_test_59.jpg  \n",
            "  inflating: test/ad/ad_test_6.jpg   \n",
            "  inflating: test/ad/ad_test_60.jpg  \n",
            "  inflating: test/ad/ad_test_7.jpg   \n",
            "  inflating: test/ad/ad_test_8.jpg   \n",
            "  inflating: test/ad/ad_test_9.jpg   \n",
            "   creating: test/normal/\n",
            "  inflating: test/normal/normal_test_1.jpg  \n",
            "  inflating: test/normal/normal_test_10.jpg  \n",
            "  inflating: test/normal/normal_test_11.jpg  \n",
            "  inflating: test/normal/normal_test_12.jpg  \n",
            "  inflating: test/normal/normal_test_13.jpg  \n",
            "  inflating: test/normal/normal_test_14.jpg  \n",
            "  inflating: test/normal/normal_test_15.jpg  \n",
            "  inflating: test/normal/normal_test_16.jpg  \n",
            "  inflating: test/normal/normal_test_17.jpg  \n",
            "  inflating: test/normal/normal_test_18.jpg  \n",
            "  inflating: test/normal/normal_test_19.jpg  \n",
            "  inflating: test/normal/normal_test_2.jpg  \n",
            "  inflating: test/normal/normal_test_20.jpg  \n",
            "  inflating: test/normal/normal_test_21.jpg  \n",
            "  inflating: test/normal/normal_test_22.jpg  \n",
            "  inflating: test/normal/normal_test_23.jpg  \n",
            "  inflating: test/normal/normal_test_24.jpg  \n",
            "  inflating: test/normal/normal_test_25.jpg  \n",
            "  inflating: test/normal/normal_test_26.jpg  \n",
            "  inflating: test/normal/normal_test_27.jpg  \n",
            "  inflating: test/normal/normal_test_28.jpg  \n",
            "  inflating: test/normal/normal_test_29.jpg  \n",
            "  inflating: test/normal/normal_test_3.jpg  \n",
            "  inflating: test/normal/normal_test_30.jpg  \n",
            "  inflating: test/normal/normal_test_31.jpg  \n",
            "  inflating: test/normal/normal_test_32.jpg  \n",
            "  inflating: test/normal/normal_test_33.jpg  \n",
            "  inflating: test/normal/normal_test_34.jpg  \n",
            "  inflating: test/normal/normal_test_35.jpg  \n",
            "  inflating: test/normal/normal_test_36.jpg  \n",
            "  inflating: test/normal/normal_test_37.jpg  \n",
            "  inflating: test/normal/normal_test_38.jpg  \n",
            "  inflating: test/normal/normal_test_39.jpg  \n",
            "  inflating: test/normal/normal_test_4.jpg  \n",
            "  inflating: test/normal/normal_test_40.jpg  \n",
            "  inflating: test/normal/normal_test_41.jpg  \n",
            "  inflating: test/normal/normal_test_42.jpg  \n",
            "  inflating: test/normal/normal_test_43.jpg  \n",
            "  inflating: test/normal/normal_test_44.jpg  \n",
            "  inflating: test/normal/normal_test_45.jpg  \n",
            "  inflating: test/normal/normal_test_46.jpg  \n",
            "  inflating: test/normal/normal_test_47.jpg  \n",
            "  inflating: test/normal/normal_test_48.jpg  \n",
            "  inflating: test/normal/normal_test_49.jpg  \n",
            "  inflating: test/normal/normal_test_5.jpg  \n",
            "  inflating: test/normal/normal_test_50.jpg  \n",
            "  inflating: test/normal/normal_test_51.jpg  \n",
            "  inflating: test/normal/normal_test_52.jpg  \n",
            "  inflating: test/normal/normal_test_53.jpg  \n",
            "  inflating: test/normal/normal_test_54.jpg  \n",
            "  inflating: test/normal/normal_test_55.jpg  \n",
            "  inflating: test/normal/normal_test_56.jpg  \n",
            "  inflating: test/normal/normal_test_57.jpg  \n",
            "  inflating: test/normal/normal_test_58.jpg  \n",
            "  inflating: test/normal/normal_test_59.jpg  \n",
            "  inflating: test/normal/normal_test_6.jpg  \n",
            "  inflating: test/normal/normal_test_60.jpg  \n",
            "  inflating: test/normal/normal_test_7.jpg  \n",
            "  inflating: test/normal/normal_test_8.jpg  \n",
            "  inflating: test/normal/normal_test_9.jpg  \n",
            "   creating: train/\n",
            "   creating: train/ad/\n",
            "  inflating: train/ad/ad_train_1.jpg  \n",
            "  inflating: train/ad/ad_train_10.jpg  \n",
            "  inflating: train/ad/ad_train_11.jpg  \n",
            "  inflating: train/ad/ad_train_12.jpg  \n",
            "  inflating: train/ad/ad_train_13.jpg  \n",
            "  inflating: train/ad/ad_train_14.jpg  \n",
            "  inflating: train/ad/ad_train_15.jpg  \n",
            "  inflating: train/ad/ad_train_16.jpg  \n",
            "  inflating: train/ad/ad_train_17.jpg  \n",
            "  inflating: train/ad/ad_train_18.jpg  \n",
            "  inflating: train/ad/ad_train_19.jpg  \n",
            "  inflating: train/ad/ad_train_2.jpg  \n",
            "  inflating: train/ad/ad_train_20.jpg  \n",
            "  inflating: train/ad/ad_train_21.jpg  \n",
            "  inflating: train/ad/ad_train_22.jpg  \n",
            "  inflating: train/ad/ad_train_23.jpg  \n",
            "  inflating: train/ad/ad_train_24.jpg  \n",
            "  inflating: train/ad/ad_train_25.jpg  \n",
            "  inflating: train/ad/ad_train_26.jpg  \n",
            "  inflating: train/ad/ad_train_27.jpg  \n",
            "  inflating: train/ad/ad_train_28.jpg  \n",
            "  inflating: train/ad/ad_train_29.jpg  \n",
            "  inflating: train/ad/ad_train_3.jpg  \n",
            "  inflating: train/ad/ad_train_30.jpg  \n",
            "  inflating: train/ad/ad_train_31.jpg  \n",
            "  inflating: train/ad/ad_train_32.jpg  \n",
            "  inflating: train/ad/ad_train_33.jpg  \n",
            "  inflating: train/ad/ad_train_34.jpg  \n",
            "  inflating: train/ad/ad_train_35.jpg  \n",
            "  inflating: train/ad/ad_train_36.jpg  \n",
            "  inflating: train/ad/ad_train_37.jpg  \n",
            "  inflating: train/ad/ad_train_38.jpg  \n",
            "  inflating: train/ad/ad_train_39.jpg  \n",
            "  inflating: train/ad/ad_train_4.jpg  \n",
            "  inflating: train/ad/ad_train_40.jpg  \n",
            "  inflating: train/ad/ad_train_41.jpg  \n",
            "  inflating: train/ad/ad_train_42.jpg  \n",
            "  inflating: train/ad/ad_train_43.jpg  \n",
            "  inflating: train/ad/ad_train_44.jpg  \n",
            "  inflating: train/ad/ad_train_45.jpg  \n",
            "  inflating: train/ad/ad_train_46.jpg  \n",
            "  inflating: train/ad/ad_train_47.jpg  \n",
            "  inflating: train/ad/ad_train_48.jpg  \n",
            "  inflating: train/ad/ad_train_49.jpg  \n",
            "  inflating: train/ad/ad_train_5.jpg  \n",
            "  inflating: train/ad/ad_train_50.jpg  \n",
            "  inflating: train/ad/ad_train_51.jpg  \n",
            "  inflating: train/ad/ad_train_52.jpg  \n",
            "  inflating: train/ad/ad_train_53.jpg  \n",
            "  inflating: train/ad/ad_train_54.jpg  \n",
            "  inflating: train/ad/ad_train_55.jpg  \n",
            "  inflating: train/ad/ad_train_56.jpg  \n",
            "  inflating: train/ad/ad_train_57.jpg  \n",
            "  inflating: train/ad/ad_train_58.jpg  \n",
            "  inflating: train/ad/ad_train_59.jpg  \n",
            "  inflating: train/ad/ad_train_6.jpg  \n",
            "  inflating: train/ad/ad_train_60.jpg  \n",
            "  inflating: train/ad/ad_train_61.jpg  \n",
            "  inflating: train/ad/ad_train_62.jpg  \n",
            "  inflating: train/ad/ad_train_63.jpg  \n",
            "  inflating: train/ad/ad_train_64.jpg  \n",
            "  inflating: train/ad/ad_train_65.jpg  \n",
            "  inflating: train/ad/ad_train_66.jpg  \n",
            "  inflating: train/ad/ad_train_67.jpg  \n",
            "  inflating: train/ad/ad_train_68.jpg  \n",
            "  inflating: train/ad/ad_train_69.jpg  \n",
            "  inflating: train/ad/ad_train_7.jpg  \n",
            "  inflating: train/ad/ad_train_70.jpg  \n",
            "  inflating: train/ad/ad_train_71.jpg  \n",
            "  inflating: train/ad/ad_train_72.jpg  \n",
            "  inflating: train/ad/ad_train_73.jpg  \n",
            "  inflating: train/ad/ad_train_74.jpg  \n",
            "  inflating: train/ad/ad_train_75.jpg  \n",
            "  inflating: train/ad/ad_train_76.jpg  \n",
            "  inflating: train/ad/ad_train_77.jpg  \n",
            "  inflating: train/ad/ad_train_78.jpg  \n",
            "  inflating: train/ad/ad_train_79.jpg  \n",
            "  inflating: train/ad/ad_train_8.jpg  \n",
            "  inflating: train/ad/ad_train_80.jpg  \n",
            "  inflating: train/ad/ad_train_9.jpg  \n",
            "   creating: train/normal/\n",
            "  inflating: train/normal/normal_train_1.jpg  \n",
            "  inflating: train/normal/normal_train_10.jpg  \n",
            "  inflating: train/normal/normal_train_11.jpg  \n",
            "  inflating: train/normal/normal_train_12.jpg  \n",
            "  inflating: train/normal/normal_train_13.jpg  \n",
            "  inflating: train/normal/normal_train_14.jpg  \n",
            "  inflating: train/normal/normal_train_15.jpg  \n",
            "  inflating: train/normal/normal_train_16.jpg  \n",
            "  inflating: train/normal/normal_train_17.jpg  \n",
            "  inflating: train/normal/normal_train_18.jpg  \n",
            "  inflating: train/normal/normal_train_19.jpg  \n",
            "  inflating: train/normal/normal_train_2.jpg  \n",
            "  inflating: train/normal/normal_train_20.jpg  \n",
            "  inflating: train/normal/normal_train_21.jpg  \n",
            "  inflating: train/normal/normal_train_22.jpg  \n",
            "  inflating: train/normal/normal_train_23.jpg  \n",
            "  inflating: train/normal/normal_train_24.jpg  \n",
            "  inflating: train/normal/normal_train_25.jpg  \n",
            "  inflating: train/normal/normal_train_26.jpg  \n",
            "  inflating: train/normal/normal_train_27.jpg  \n",
            "  inflating: train/normal/normal_train_28.jpg  \n",
            "  inflating: train/normal/normal_train_29.jpg  \n",
            "  inflating: train/normal/normal_train_3.jpg  \n",
            "  inflating: train/normal/normal_train_30.jpg  \n",
            "  inflating: train/normal/normal_train_31.jpg  \n",
            "  inflating: train/normal/normal_train_32.jpg  \n",
            "  inflating: train/normal/normal_train_33.jpg  \n",
            "  inflating: train/normal/normal_train_34.jpg  \n",
            "  inflating: train/normal/normal_train_35.jpg  \n",
            "  inflating: train/normal/normal_train_36.jpg  \n",
            "  inflating: train/normal/normal_train_37.jpg  \n",
            "  inflating: train/normal/normal_train_38.jpg  \n",
            "  inflating: train/normal/normal_train_39.jpg  \n",
            "  inflating: train/normal/normal_train_4.jpg  \n",
            "  inflating: train/normal/normal_train_40.jpg  \n",
            "  inflating: train/normal/normal_train_41.jpg  \n",
            "  inflating: train/normal/normal_train_42.jpg  \n",
            "  inflating: train/normal/normal_train_43.jpg  \n",
            "  inflating: train/normal/normal_train_44.jpg  \n",
            "  inflating: train/normal/normal_train_45.jpg  \n",
            "  inflating: train/normal/normal_train_46.jpg  \n",
            "  inflating: train/normal/normal_train_47.jpg  \n",
            "  inflating: train/normal/normal_train_48.jpg  \n",
            "  inflating: train/normal/normal_train_49.jpg  \n",
            "  inflating: train/normal/normal_train_5.jpg  \n",
            "  inflating: train/normal/normal_train_50.jpg  \n",
            "  inflating: train/normal/normal_train_51.jpg  \n",
            "  inflating: train/normal/normal_train_52.jpg  \n",
            "  inflating: train/normal/normal_train_53.jpg  \n",
            "  inflating: train/normal/normal_train_54.jpg  \n",
            "  inflating: train/normal/normal_train_55.jpg  \n",
            "  inflating: train/normal/normal_train_56.jpg  \n",
            "  inflating: train/normal/normal_train_57.jpg  \n",
            "  inflating: train/normal/normal_train_58.jpg  \n",
            "  inflating: train/normal/normal_train_59.jpg  \n",
            "  inflating: train/normal/normal_train_6.jpg  \n",
            "  inflating: train/normal/normal_train_60.jpg  \n",
            "  inflating: train/normal/normal_train_61.jpg  \n",
            "  inflating: train/normal/normal_train_62.jpg  \n",
            "  inflating: train/normal/normal_train_63.jpg  \n",
            "  inflating: train/normal/normal_train_64.jpg  \n",
            "  inflating: train/normal/normal_train_65.jpg  \n",
            "  inflating: train/normal/normal_train_66.jpg  \n",
            "  inflating: train/normal/normal_train_67.jpg  \n",
            "  inflating: train/normal/normal_train_68.jpg  \n",
            "  inflating: train/normal/normal_train_69.jpg  \n",
            "  inflating: train/normal/normal_train_7.jpg  \n",
            "  inflating: train/normal/normal_train_70.jpg  \n",
            "  inflating: train/normal/normal_train_71.jpg  \n",
            "  inflating: train/normal/normal_train_72.jpg  \n",
            "  inflating: train/normal/normal_train_73.jpg  \n",
            "  inflating: train/normal/normal_train_74.jpg  \n",
            "  inflating: train/normal/normal_train_75.jpg  \n",
            "  inflating: train/normal/normal_train_76.jpg  \n",
            "  inflating: train/normal/normal_train_77.jpg  \n",
            "  inflating: train/normal/normal_train_78.jpg  \n",
            "  inflating: train/normal/normal_train_79.jpg  \n",
            "  inflating: train/normal/normal_train_8.jpg  \n",
            "  inflating: train/normal/normal_train_80.jpg  \n",
            "  inflating: train/normal/normal_train_9.jpg  \n"
          ]
        }
      ]
    },
    {
      "cell_type": "code",
      "source": [
        "from tensorflow.keras.preprocessing.image import ImageDataGenerator\n",
        "from tensorflow.keras import Input, models, layers, optimizers, metrics\n",
        "from tensorflow.keras.layers import Dense, Activation, Dropout, Flatten\n",
        "from tensorflow.keras.applications import VGG16\n",
        "from tensorflow.keras.callbacks import EarlyStopping\n",
        "\n",
        "import numpy as np\n",
        "import matplotlib.pyplot as plt"
      ],
      "metadata": {
        "id": "0ObgPhVAThuA"
      },
      "execution_count": 17,
      "outputs": []
    },
    {
      "cell_type": "code",
      "source": [
        "train_datagen = ImageDataGenerator(rescale = 1./255, horizontal_flip = True, width_shift_range = 0.1,\n",
        "                                   height_shift_range = 0.1)\n",
        "train_generator = train_datagen.flow_from_directory('./train/',  target_size = (150, 150), batch_size = 5,\n",
        "                                                    class_mode = 'binary')"
      ],
      "metadata": {
        "colab": {
          "base_uri": "https://localhost:8080/"
        },
        "id": "uQA6Ui4tV99m",
        "outputId": "92cec857-e66a-4c11-9133-fd7d30aa4a8a"
      },
      "execution_count": 18,
      "outputs": [
        {
          "output_type": "stream",
          "name": "stdout",
          "text": [
            "Found 160 images belonging to 2 classes.\n"
          ]
        }
      ]
    },
    {
      "cell_type": "code",
      "source": [
        "test_datagen = ImageDataGenerator(rescale=1./255)\n",
        "test_generator = test_datagen.flow_from_directory('./test/', target_size=(150,150), batch_size=5, class_mode='binary')"
      ],
      "metadata": {
        "colab": {
          "base_uri": "https://localhost:8080/"
        },
        "id": "51RfQpFwWTd3",
        "outputId": "eac8225f-e33e-460f-9fbb-3a1b96f76305"
      },
      "execution_count": 19,
      "outputs": [
        {
          "output_type": "stream",
          "name": "stdout",
          "text": [
            "Found 120 images belonging to 2 classes.\n"
          ]
        }
      ]
    },
    {
      "cell_type": "code",
      "source": [
        "transfer_model = VGG16(weights = 'imagenet', include_top = False, input_shape = (150,150,3))\n",
        "transfer_model.trainable = False"
      ],
      "metadata": {
        "colab": {
          "base_uri": "https://localhost:8080/"
        },
        "id": "sAJN1-6QW8x3",
        "outputId": "f6ab05e6-90fb-456a-c2db-41ab05fd953a"
      },
      "execution_count": 20,
      "outputs": [
        {
          "output_type": "stream",
          "name": "stdout",
          "text": [
            "Downloading data from https://storage.googleapis.com/tensorflow/keras-applications/vgg16/vgg16_weights_tf_dim_ordering_tf_kernels_notop.h5\n",
            "58892288/58889256 [==============================] - 0s 0us/step\n",
            "58900480/58889256 [==============================] - 0s 0us/step\n"
          ]
        }
      ]
    },
    {
      "cell_type": "code",
      "source": [
        "finetune_model = models.Sequential()\n",
        "finetune_model.add(transfer_model)\n",
        "finetune_model.add(Flatten())\n",
        "finetune_model.add(Dense(64))\n",
        "finetune_model.add(Activation('relu'))\n",
        "finetune_model.add(Dropout(0.5))\n",
        "finetune_model.add(Dense(1))\n",
        "finetune_model.add(Activation('sigmoid'))\n",
        "finetune_model.summary()"
      ],
      "metadata": {
        "colab": {
          "base_uri": "https://localhost:8080/"
        },
        "id": "zVvV0l5oXMv_",
        "outputId": "32eae9a0-e3c2-4dc2-a5af-b8243e7112e4"
      },
      "execution_count": 21,
      "outputs": [
        {
          "output_type": "stream",
          "name": "stdout",
          "text": [
            "Model: \"sequential\"\n",
            "_________________________________________________________________\n",
            " Layer (type)                Output Shape              Param #   \n",
            "=================================================================\n",
            " vgg16 (Functional)          (None, 4, 4, 512)         14714688  \n",
            "                                                                 \n",
            " flatten (Flatten)           (None, 8192)              0         \n",
            "                                                                 \n",
            " dense (Dense)               (None, 64)                524352    \n",
            "                                                                 \n",
            " activation (Activation)     (None, 64)                0         \n",
            "                                                                 \n",
            " dropout (Dropout)           (None, 64)                0         \n",
            "                                                                 \n",
            " dense_1 (Dense)             (None, 1)                 65        \n",
            "                                                                 \n",
            " activation_1 (Activation)   (None, 1)                 0         \n",
            "                                                                 \n",
            "=================================================================\n",
            "Total params: 15,239,105\n",
            "Trainable params: 524,417\n",
            "Non-trainable params: 14,714,688\n",
            "_________________________________________________________________\n"
          ]
        }
      ]
    },
    {
      "cell_type": "code",
      "source": [
        "finetune_model.compile(loss = 'binary_crossentropy', optimizer = optimizers.Adam(learning_rate=0.0002), metrics=['accuracy'])"
      ],
      "metadata": {
        "id": "r72d1NwMYahw"
      },
      "execution_count": 23,
      "outputs": []
    },
    {
      "cell_type": "code",
      "source": [
        "early_stopping_callback = EarlyStopping(monitor='val_loss', patience=5)"
      ],
      "metadata": {
        "id": "SaO6Zs4TYqeO"
      },
      "execution_count": 24,
      "outputs": []
    },
    {
      "cell_type": "code",
      "source": [
        "history = finetune_model.fit(train_generator, epochs = 20, validation_data=test_generator, validation_steps=10,\n",
        "                    callbacks = [early_stopping_callback])"
      ],
      "metadata": {
        "colab": {
          "base_uri": "https://localhost:8080/"
        },
        "id": "a5h_yz-UYwA-",
        "outputId": "0edd1c16-343f-48e7-ae1a-3368b189fd57"
      },
      "execution_count": 25,
      "outputs": [
        {
          "output_type": "stream",
          "name": "stdout",
          "text": [
            "Epoch 1/20\n",
            "32/32 [==============================] - 13s 48ms/step - loss: 0.7017 - accuracy: 0.5312 - val_loss: 0.6232 - val_accuracy: 0.5400\n",
            "Epoch 2/20\n",
            "32/32 [==============================] - 1s 41ms/step - loss: 0.5641 - accuracy: 0.6938 - val_loss: 0.5220 - val_accuracy: 0.7400\n",
            "Epoch 3/20\n",
            "32/32 [==============================] - 1s 41ms/step - loss: 0.5169 - accuracy: 0.7125 - val_loss: 0.4763 - val_accuracy: 0.8200\n",
            "Epoch 4/20\n",
            "32/32 [==============================] - 1s 41ms/step - loss: 0.4771 - accuracy: 0.7875 - val_loss: 0.3971 - val_accuracy: 0.9000\n",
            "Epoch 5/20\n",
            "32/32 [==============================] - 1s 41ms/step - loss: 0.4318 - accuracy: 0.8562 - val_loss: 0.3630 - val_accuracy: 0.8800\n",
            "Epoch 6/20\n",
            "32/32 [==============================] - 1s 42ms/step - loss: 0.3429 - accuracy: 0.9062 - val_loss: 0.3256 - val_accuracy: 0.9200\n",
            "Epoch 7/20\n",
            "32/32 [==============================] - 1s 44ms/step - loss: 0.3334 - accuracy: 0.8875 - val_loss: 0.3236 - val_accuracy: 0.9000\n",
            "Epoch 8/20\n",
            "32/32 [==============================] - 1s 42ms/step - loss: 0.3124 - accuracy: 0.9062 - val_loss: 0.2660 - val_accuracy: 0.9400\n",
            "Epoch 9/20\n",
            "32/32 [==============================] - 1s 41ms/step - loss: 0.2701 - accuracy: 0.9125 - val_loss: 0.2664 - val_accuracy: 0.9200\n",
            "Epoch 10/20\n",
            "32/32 [==============================] - 1s 42ms/step - loss: 0.2875 - accuracy: 0.9125 - val_loss: 0.2422 - val_accuracy: 0.9000\n",
            "Epoch 11/20\n",
            "32/32 [==============================] - 1s 43ms/step - loss: 0.2631 - accuracy: 0.9500 - val_loss: 0.2097 - val_accuracy: 0.9200\n",
            "Epoch 12/20\n",
            "32/32 [==============================] - 1s 45ms/step - loss: 0.2505 - accuracy: 0.9250 - val_loss: 0.1949 - val_accuracy: 0.9600\n",
            "Epoch 13/20\n",
            "32/32 [==============================] - 1s 43ms/step - loss: 0.2536 - accuracy: 0.9312 - val_loss: 0.2486 - val_accuracy: 0.8800\n",
            "Epoch 14/20\n",
            "32/32 [==============================] - 1s 42ms/step - loss: 0.2381 - accuracy: 0.9375 - val_loss: 0.2055 - val_accuracy: 0.9400\n",
            "Epoch 15/20\n",
            "32/32 [==============================] - 1s 42ms/step - loss: 0.1897 - accuracy: 0.9375 - val_loss: 0.1678 - val_accuracy: 0.9400\n",
            "Epoch 16/20\n",
            "32/32 [==============================] - 2s 56ms/step - loss: 0.1920 - accuracy: 0.9375 - val_loss: 0.1953 - val_accuracy: 0.9000\n",
            "Epoch 17/20\n",
            "32/32 [==============================] - 1s 42ms/step - loss: 0.1985 - accuracy: 0.9500 - val_loss: 0.1730 - val_accuracy: 0.9400\n",
            "Epoch 18/20\n",
            "32/32 [==============================] - 1s 42ms/step - loss: 0.1628 - accuracy: 0.9625 - val_loss: 0.1387 - val_accuracy: 0.9400\n",
            "Epoch 19/20\n",
            "32/32 [==============================] - 1s 43ms/step - loss: 0.1793 - accuracy: 0.9625 - val_loss: 0.1134 - val_accuracy: 1.0000\n",
            "Epoch 20/20\n",
            "32/32 [==============================] - 2s 59ms/step - loss: 0.2117 - accuracy: 0.9250 - val_loss: 0.1992 - val_accuracy: 0.9600\n"
          ]
        }
      ]
    },
    {
      "cell_type": "code",
      "source": [
        "y_vloss = history.history['val_loss']\n",
        "y_loss = history.history['loss']"
      ],
      "metadata": {
        "id": "03REF0EOY5uz"
      },
      "execution_count": 26,
      "outputs": []
    },
    {
      "cell_type": "code",
      "source": [
        "x_len = np.arange(len(y_loss))\n",
        "plt.plot(x_len, y_vloss, marker = '.', c = 'red', label = 'Testset_loss')\n",
        "plt.plot(x_len, y_loss, marker = '.', c = 'blue', label = 'Trainset_loss')\n",
        "plt.legend(loc = 'upper right')\n",
        "plt.grid()\n",
        "plt.xlabel('epoch')\n",
        "plt.ylabel('loss')\n",
        "plt.show()"
      ],
      "metadata": {
        "colab": {
          "base_uri": "https://localhost:8080/",
          "height": 279
        },
        "id": "5s_tLQn1ZCnP",
        "outputId": "406f76d2-a349-4122-a576-4f0fef2a2d9c"
      },
      "execution_count": 28,
      "outputs": [
        {
          "output_type": "display_data",
          "data": {
            "text/plain": [
              "<Figure size 432x288 with 1 Axes>"
            ],
            "image/png": "[encoded data removed]"
          },
          "metadata": {
            "needs_background": "light"
          }
        }
      ]
    },
    {
      "cell_type": "code",
      "source": [
        ""
      ],
      "metadata": {
        "id": "ZPvgOD_gZTtF"
      },
      "execution_count": null,
      "outputs": []
    }
  ]
}